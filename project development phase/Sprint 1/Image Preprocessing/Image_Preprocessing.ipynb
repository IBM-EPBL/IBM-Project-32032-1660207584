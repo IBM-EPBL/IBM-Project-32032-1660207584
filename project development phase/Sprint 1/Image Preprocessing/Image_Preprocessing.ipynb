{
  "nbformat": 4,
  "nbformat_minor": 0,
  "metadata": {
    "colab": {
      "provenance": [],
      "collapsed_sections": []
    },
    "kernelspec": {
      "name": "python3",
      "display_name": "Python 3"
    },
    "language_info": {
      "name": "python"
    }
  },
  "cells": [
    {
      "cell_type": "markdown",
      "source": [
        "# ***Sprint - 1***"
      ],
      "metadata": {
        "id": "i9qsZOYc4gDd"
      }
    },
    {
      "cell_type": "markdown",
      "source": [
        "# Image preprocessing"
      ],
      "metadata": {
        "id": "PT8wDzdp13DU"
      }
    },
    {
      "cell_type": "markdown",
      "source": [
        "Importing data set"
      ],
      "metadata": {
        "id": "7j7Gqe_zDjW4"
      }
    },
    {
      "cell_type": "code",
      "source": [
        "!unzip '/content/conversation engine for deaf and dumb.zip'"
      ],
      "metadata": {
        "id": "qRmgDr4REhpL"
      },
      "execution_count": null,
      "outputs": []
    },
    {
      "cell_type": "code",
      "source": [
        "from google.colab import drive\n",
        "drive.mount('/content/drive')"
      ],
      "metadata": {
        "colab": {
          "base_uri": "https://localhost:8080/"
        },
        "id": "PWa8xpfbvXvE",
        "outputId": "175b755d-a49f-4706-ce01-60ce5d447596"
      },
      "execution_count": null,
      "outputs": [
        {
          "output_type": "stream",
          "name": "stdout",
          "text": [
            "Drive already mounted at /content/drive; to attempt to forcibly remount, call drive.mount(\"/content/drive\", force_remount=True).\n"
          ]
        }
      ]
    },
    {
      "cell_type": "markdown",
      "source": [
        "Import ImageDataGenerator Library And Configure It"
      ],
      "metadata": {
        "id": "CiX2QKt_N1_6"
      }
    },
    {
      "cell_type": "code",
      "execution_count": 1,
      "metadata": {
        "id": "RWGfOaedzY27"
      },
      "outputs": [],
      "source": [
        "from tensorflow.keras.preprocessing.image import ImageDataGenerator"
      ]
    },
    {
      "cell_type": "code",
      "source": [
        "# Training Datagen\n",
        "train_datagen = ImageDataGenerator(rescale=1./255,zoom_range=0.2,horizontal_flip=True)\n",
        "# Testing Datagen\n",
        "test_datagen = ImageDataGenerator(rescale=1./255)"
      ],
      "metadata": {
        "id": "kwJ0kxBZ2kJJ"
      },
      "execution_count": 2,
      "outputs": []
    },
    {
      "cell_type": "markdown",
      "source": [
        "Applying ImageDataGenerator Functionality To Train And Test Set"
      ],
      "metadata": {
        "id": "EtWTvK0i2SYh"
      }
    },
    {
      "cell_type": "code",
      "source": [
        "# Training Dataset\n",
        "x_train=train_datagen.flow_from_directory('/content/drive/MyDrive/Dataset/training_set',target_size=(64,64),class_mode='categorical',batch_size=900)"
      ],
      "metadata": {
        "colab": {
          "base_uri": "https://localhost:8080/"
        },
        "id": "0BIx_w30FsaV",
        "outputId": "6cbd3932-e260-4822-a8ab-dc9c03a43e72"
      },
      "execution_count": 6,
      "outputs": [
        {
          "output_type": "stream",
          "name": "stdout",
          "text": [
            "Found 15760 images belonging to 9 classes.\n"
          ]
        }
      ]
    },
    {
      "cell_type": "code",
      "source": [
        "# Testing Dataset\n",
        "x_test=test_datagen.flow_from_directory('/content/drive/MyDrive/Dataset/test_set',target_size=(64,64),class_mode='categorical',batch_size=300)"
      ],
      "metadata": {
        "colab": {
          "base_uri": "https://localhost:8080/"
        },
        "id": "JF0ciSCFGHtG",
        "outputId": "d463a063-802f-4370-e5b6-1d0250c25490"
      },
      "execution_count": 8,
      "outputs": [
        {
          "output_type": "stream",
          "name": "stdout",
          "text": [
            "Found 2250 images belonging to 9 classes.\n"
          ]
        }
      ]
    }
  ]
}